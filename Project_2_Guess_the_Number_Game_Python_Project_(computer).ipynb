{
  "nbformat": 4,
  "nbformat_minor": 0,
  "metadata": {
    "colab": {
      "provenance": [],
      "gpuType": "T4",
      "authorship_tag": "ABX9TyMnmCpQxepIaqa/wcEpw4Kc",
      "include_colab_link": true
    },
    "kernelspec": {
      "name": "python3",
      "display_name": "Python 3"
    },
    "language_info": {
      "name": "python"
    },
    "accelerator": "GPU"
  },
  "cells": [
    {
      "cell_type": "markdown",
      "metadata": {
        "id": "view-in-github",
        "colab_type": "text"
      },
      "source": [
        "<a href=\"https://colab.research.google.com/github/RanaFaseh/Project-2-Guess-the-number-game-python-project-Computer-/blob/main/Project_2_Guess_the_Number_Game_Python_Project_(computer).ipynb\" target=\"_parent\"><img src=\"https://colab.research.google.com/assets/colab-badge.svg\" alt=\"Open In Colab\"/></a>"
      ]
    },
    {
      "cell_type": "code",
      "execution_count": 4,
      "metadata": {
        "colab": {
          "base_uri": "https://localhost:8080/"
        },
        "id": "8-g0rPTc73wu",
        "outputId": "90bca810-c53e-4bfc-cbbf-cac6f73ae321"
      },
      "outputs": [
        {
          "output_type": "stream",
          "name": "stdout",
          "text": [
            "Welcome to the Guess the Number Game!\n",
            "I'm thinking of a number between 1 and 100.\n",
            "You have 10 guesses left.\n",
            "\n",
            "You have 10 guesses left.\n",
            "The computer guesses: 50\n",
            "Too low! Try again.\n",
            "\n",
            "You have 9 guesses left.\n",
            "The computer guesses: 75\n",
            "Too low! Try again.\n",
            "\n",
            "You have 8 guesses left.\n",
            "The computer guesses: 88\n",
            "Too low! Try again.\n",
            "\n",
            "You have 7 guesses left.\n",
            "The computer guesses: 94\n",
            "Too low! Try again.\n",
            "\n",
            "You have 6 guesses left.\n",
            "The computer guesses: 97\n",
            "Too low! Try again.\n",
            "\n",
            "You have 5 guesses left.\n",
            "The computer guesses: 99\n",
            "Too high! Try again.\n",
            "\n",
            "You have 4 guesses left.\n",
            "The computer guesses: 98\n",
            "Congratulation! The computer guessed the number in 7 tries.\n"
          ]
        }
      ],
      "source": [
        "import random\n",
        "\n",
        "def guess_the_number():\n",
        "    \"\"\"Project 2: Guess the Number Game By (computer)\"\"\"\n",
        "    random_number = random.randint(1, 100)\n",
        "    guesses_left = 10\n",
        "    print(\"Welcome to the Guess the Number Game!\")\n",
        "    print(\"I'm thinking of a number between 1 and 100.\")\n",
        "    print(f\"You have {guesses_left} guesses left.\")\n",
        "    low = 1\n",
        "    high = 100\n",
        "    while guesses_left > 0:\n",
        "        print(f\"\\nYou have {guesses_left} guesses left.\")\n",
        "        guess = (low + high) // 2  # Computer's guess (binary search)\n",
        "        print(f\"The computer guesses: {guess}\")\n",
        "\n",
        "        if guess < random_number:\n",
        "            print(\"Too low! Try again.\")\n",
        "            low = guess + 1\n",
        "        elif guess > random_number:\n",
        "            print(\"Too high! Try again.\")\n",
        "            high = guess - 1\n",
        "        else:\n",
        "            print(f\"Congratulation! The computer guessed the number in {10 - guesses_left + 1} tries.\")\n",
        "            return  # Exit the game loop if the guess is correct\n",
        "\n",
        "        guesses_left -= 1\n",
        "\n",
        "    print(f\"\\nThe computer ran out of guesses. The number was {random_number}.\")\n",
        "\n",
        "guess_the_number()"
      ]
    }
  ]
}